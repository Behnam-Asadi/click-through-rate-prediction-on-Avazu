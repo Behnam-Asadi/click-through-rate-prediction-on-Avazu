{
 "cells": [
  {
   "cell_type": "code",
   "execution_count": null,
   "id": "1cc775cc",
   "metadata": {},
   "outputs": [],
   "source": [
    "import pandas as pd\n",
    "import numpy as np\n",
    "import matplotlib.pyplot as plt\n",
    "import seaborn as sns\n",
    "import matplotlib.dates as mdates\n",
    "import plotly.graph_objects as go\n",
    "import plotly.express as px\n",
    "from sklearn.preprocessing import StandardScaler\n",
    "from sklearn.utils import shuffle\n",
    "from sklearn.feature_selection import SelectKBest, f_classif\n",
    "from sklearn.model_selection import train_test_split, cross_val_score, RepeatedStratifiedKFold, StratifiedKFold, GridSearchCV\n",
    "from sklearn.linear_model import LogisticRegressionCV, LogisticRegression\n",
    "from sklearn.tree import DecisionTreeClassifier\n",
    "from sklearn.ensemble import IsolationForest\n",
    "from sklearn.metrics import mean_squared_error, mean_absolute_error, accuracy_score, classification_report, roc_auc_score, roc_curve, confusion_matrix, roc_auc_score, auc, precision_recall_curve\n",
    "from statsmodels.stats.outliers_influence import variance_inflation_factor\n",
    "from xgboost import XGBClassifier\n",
    "from lightgbm import LGBMClassifier\n",
    "import keras\n",
    "from keras.optimizers import SGD, Adam\n",
    "from keras.models import Sequential\n",
    "from keras.layers import Dense\n",
    "from keras.wrappers.scikit_learn import KerasClassifier\n",
    "from keras.callbacks import EarlyStopping\n",
    "from imblearn.over_sampling import SMOTE, BorderlineSMOTE\n",
    "from imblearn.under_sampling import RandomUnderSampler\n",
    "from imblearn.pipeline import Pipeline\n",
    "import time\n",
    "import math\n",
    "import warnings\n",
    "\n",
    "warnings.filterwarnings(\"ignore\")"
   ]
  },
  {
   "cell_type": "code",
   "execution_count": null,
   "id": "2e0dd964",
   "metadata": {},
   "outputs": [],
   "source": [
    "X_train_unblnc = np.load(\"X_train_unblnc_10.npy\")\n",
    "y_train_unblnc = np.load(\"y_train_unblnc_10.npy\")\n",
    "X_train_smote = np.load(\"X_train_smote_10.npy\")\n",
    "y_train_smote = np.load(\"y_train_smote_10.npy\")\n",
    "X_train_under = np.load(\"X_train_under_10.npy\")\n",
    "y_train_under = np.load(\"y_train_under_10.npy\")\n",
    "X_test = np.load(\"X_test_10.npy\")\n",
    "y_test = np.load(\"y_test_10.npy\")"
   ]
  },
  {
   "cell_type": "code",
   "execution_count": null,
   "id": "dffa9d54",
   "metadata": {},
   "outputs": [],
   "source": [
    "X_train_unblnc.shape"
   ]
  },
  {
   "cell_type": "code",
   "execution_count": null,
   "id": "4de669a1",
   "metadata": {},
   "outputs": [],
   "source": [
    "def optimize_hyperparameters(X_train_data, X_test_data, y_train_data,\n",
    "                             model, param_grid, n_jobs, cv=10, verbose=1,\n",
    "                             scoring_fit='neg_mean_squared_error'):\n",
    "    gs = GridSearchCV(\n",
    "        estimator=model,\n",
    "        param_grid=param_grid, \n",
    "        cv=cv, \n",
    "        n_jobs=n_jobs, \n",
    "        scoring=scoring_fit,\n",
    "        verbose=verbose\n",
    "    )\n",
    "    \n",
    "    model = gs.fit(X_train_data, y_train_data)\n",
    "    preds = model.predict(X_test_data)\n",
    "    \n",
    "    return model, preds"
   ]
  },
  {
   "cell_type": "code",
   "execution_count": null,
   "id": "3df2bf0e",
   "metadata": {},
   "outputs": [],
   "source": [
    "def prediction_interval(accuracy, z, num_samples):\n",
    "    accuracy_interval = z * np.sqrt((accuracy * (1 - accuracy)) / num_samples)\n",
    "    accuracy_lower = accuracy - accuracy_interval\n",
    "    accuracy_upper = accuracy + accuracy_interval\n",
    "    return accuracy_interval, accuracy_lower, accuracy_upper"
   ]
  },
  {
   "cell_type": "code",
   "execution_count": null,
   "id": "dd79d72a",
   "metadata": {},
   "outputs": [],
   "source": [
    "def plot_auc_roc(fpr, tpr):\n",
    "    fig = px.area(\n",
    "        x=fpr, y=tpr,\n",
    "        title=f'ROC Curve (AUC={auc(fpr, tpr):.4f})',\n",
    "        labels=dict(x='False Positive Rate', y='True Positive Rate'),\n",
    "        width=700, height=500\n",
    "    )\n",
    "    fig.add_shape(\n",
    "        type='line', line=dict(dash='dash'),\n",
    "        x0=0, x1=1, y0=0, y1=1\n",
    "    )\n",
    "    \n",
    "    fig.update_yaxes(scaleanchor=\"x\", scaleratio=1)\n",
    "    fig.update_xaxes(constrain='domain')\n",
    "    fig.show()"
   ]
  },
  {
   "cell_type": "code",
   "execution_count": null,
   "id": "68a8af94",
   "metadata": {},
   "outputs": [],
   "source": [
    "def plot_precision_recall_auc(precision, recall, fpr, tpr):\n",
    "    fig = px.area(\n",
    "        x=recall, y=precision,\n",
    "        title=f'Precision-Recall Curve (AUC={auc(fpr, tpr):.4f})',\n",
    "        labels=dict(x='Recall', y='Precision'),\n",
    "        width=700, height=500\n",
    "    )\n",
    "    fig.add_shape(\n",
    "        type='line', line=dict(dash='dash'),\n",
    "        x0=0, x1=1, y0=1, y1=0\n",
    "    )\n",
    "    fig.update_yaxes(scaleanchor=\"x\", scaleratio=1)\n",
    "    fig.update_xaxes(constrain='domain')\n",
    "\n",
    "    fig.show()"
   ]
  },
  {
   "cell_type": "code",
   "execution_count": null,
   "id": "fe77abe7",
   "metadata": {},
   "outputs": [],
   "source": [
    "def train_tune_valid(X_train, y_train, X_test, y_test, model, param_grid):\n",
    "    \n",
    "    # Baseline model\n",
    "    baseline_model = model\n",
    "    baseline_model.fit(X_train, y_train)\n",
    "    y_pred = baseline_model.predict(X_test)\n",
    "    baseline_accuracy = accuracy_score(y_test, y_pred)\n",
    "    print(\"Baseline Model accuracy: {}\".format(baseline_accuracy))\n",
    "\n",
    "    # Hyperparameter optimization\n",
    "    start_time = time.time()\n",
    "    tuned_model = model\n",
    "    tuned_model, y_pred_tuned = optimize_hyperparameters(X_train, X_test, y_train, tuned_model, \n",
    "                                             param_grid, n_jobs=-1, cv=5,\n",
    "                                             scoring_fit='roc_auc', verbose=1)\n",
    "\n",
    "    end_time = time.time()\n",
    "    duration = end_time - start_time\n",
    "    print(\"Time taken: {:.3f} seconds\".format(duration))\n",
    "    print(\"Best score: {}\".format(tuned_model.best_score_))\n",
    "    print(\"Best parameters: {}\".format(tuned_model.best_params_))\n",
    "\n",
    "    # Accuracy and prediction interval\n",
    "    accuracy = accuracy_score(y_test, y_pred)\n",
    "    print(\"Tuned Model accuracy: {}\".format(accuracy))\n",
    "\n",
    "    interval, lower, upper = prediction_interval(accuracy, 1.96, X_test.shape[0])\n",
    "    print(\"interval: {:.4f}, lower: {:.4f}, upper: {:.4f}\".format(interval, lower, upper))\n",
    "\n",
    "    # Classification report and ROC curve\n",
    "    print(classification_report(y_test, y_pred))\n",
    "    fpr, tpr, thresholds = roc_curve(y_test, model.predict_proba(X_test)[:, 1])\n",
    "    plot_auc_roc(fpr, tpr)\n",
    "    precision, recall, thresholds = precision_recall_curve(y_test, model.predict_proba(X_test)[:, 1])\n",
    "    plot_precision_recall_auc(precision, recall, fpr, tpr)"
   ]
  },
  {
   "cell_type": "code",
   "execution_count": null,
   "id": "851190cd",
   "metadata": {},
   "outputs": [],
   "source": [
    "model = LogisticRegression()\n",
    "\n",
    "tuning_space = {\n",
    "    'C': np.logspace(-2, 4, 10),\n",
    "    'penalty': ['l1', 'l2']\n",
    "}\n",
    "\n",
    "train_tune_valid(X_train_unblnc, y_train_unblnc, X_test, y_test, model, tuning_space)\n",
    "train_tune_valid(X_train_smote, y_train_smote, X_test, y_test, model, tuning_space)\n",
    "train_tune_valid(X_train_under, y_train_under, X_test, y_test, model, tuning_space)"
   ]
  },
  {
   "cell_type": "code",
   "execution_count": null,
   "id": "3e32ba09",
   "metadata": {},
   "outputs": [],
   "source": [
    "model = XGBClassifier()\n",
    "\n",
    "tuning_space = {\n",
    "    'max_depth': range(4, 10, 1),\n",
    "    'n_estimators': [60],\n",
    "    'reg_alpha': [1e-2, 0.1, 1],\n",
    "    'gamma': [i / 10.0 for i in range(0, 5)]\n",
    "}\n",
    "\n",
    "train_tune_valid(X_train_unblnc, y_train_unblnc, X_test, y_test, model, tuning_space)\n",
    "train_tune_valid(X_train_smote, y_train_smote, X_test, y_test, model, tuning_space)\n",
    "train_tune_valid(X_train_under, y_train_under, X_test, y_test, model, tuning_space)"
   ]
  },
  {
   "cell_type": "code",
   "execution_count": null,
   "id": "a627f1fd",
   "metadata": {},
   "outputs": [],
   "source": [
    "def train_xgboost(X_train, y_train, X_test, y_test, param_grid):\n",
    "    \n",
    "    # Baseline XGBoost model\n",
    "    baseline_model = XGBClassifier()\n",
    "    baseline_model.fit(X_train, y_train)\n",
    "    y_pred_baseline = baseline_model.predict(X_test)\n",
    "    baseline_accuracy = accuracy_score(y_test, y_pred_baseline)\n",
    "    print(\"Baseline Model Accuracy: {:.4f}\".format(baseline_accuracy))\n",
    "\n",
    "    # Hyperparameter optimization\n",
    "    start_time = time.time()\n",
    "    tuned_model = XGBClassifier()\n",
    "    tuned_model, y_pred_tuned = optimize_hyperparameters(X_train, X_test, y_train, tuned_model,\n",
    "                                                         param_grid, n_jobs=-1, cv=5,\n",
    "                                                         scoring_fit='roc_auc', verbose=1)\n",
    "    \n",
    "    end_time = time.time()\n",
    "    duration = end_time - start_time\n",
    "    print(\"Time taken: {:.3f} seconds\".format(duration))\n",
    "    print(\"Best score: {}\".format(tuned_model.best_score_))\n",
    "    print(\"Best parameters: {}\".format(tuned_model.best_params_))\n",
    "    \n",
    "    # Accuracy and prediction interval\n",
    "    tuned_accuracy = accuracy_score(y_test, y_pred_tuned)\n",
    "    print(\"Tuned Model Accuracy: {:.4f}\".format(tuned_accuracy))\n",
    "\n",
    "    # Classification report and ROC curve\n",
    "    print(classification_report(y_test, y_pred_tuned))\n",
    "    fpr, tpr, thresholds = roc_curve(y_test, tuned_model.predict_proba(X_test)[:, 1])\n",
    "    plot_auc_roc(fpr, tpr)\n",
    "    precision, recall, thresholds = precision_recall_curve(y_test, tuned_model.predict_proba(X_test)[:, 1])\n",
    "    plot_precision_recall_auc(precision, recall)\n",
    "\n",
    "    # Prediction Interval (Assuming you have a function named 'prediction_interval')\n",
    "    interval, lower, upper = prediction_interval(tuned_accuracy, 1.96, X_test.shape[0])\n",
    "    print(\"Accuracy Interval: {:.4f}, Lower: {:.4f}, Upper: {:.4f}\".format(interval, lower, upper))\n",
    "\n",
    "# Usage\n",
    "\n",
    "tuning_space = {\n",
    "    'max_depth': range(4, 10, 1),\n",
    "    'n_estimators': [60],\n",
    "    'reg_alpha': [1e-2, 0.1, 1],\n",
    "    'gamma': [i / 10.0 for i in range(0, 5)]\n",
    "}\n",
    "\n",
    "train_xgboost(X_train_unblnc, y_train_unblnc, X_test, y_test, tuning_space)\n",
    "train_xgboost(X_train_smote, y_train_smote, X_test, y_test, tuning_space)\n",
    "train_xgboost(X_train_under, y_train_under, X_test, y_test, tuning_space)\n"
   ]
  },
  {
   "cell_type": "code",
   "execution_count": null,
   "id": "6431b3ac",
   "metadata": {},
   "outputs": [],
   "source": [
    "#Baseline model\n",
    "model = XGBClassifier()\n",
    "model.fit(X_train, y_train)\n",
    "y_pred = model.predict(X_test)\n",
    "accuracy = accuracy_score(y_test, y_pred)\n",
    "print(\"Model accuracy: {}\".format(accuracy))"
   ]
  },
  {
   "cell_type": "code",
   "execution_count": null,
   "id": "0f002166",
   "metadata": {},
   "outputs": [],
   "source": [
    "start_time = time.time()\n",
    "\n",
    "param_grid = {\n",
    "    'max_depth': range (4, 10, 1),\n",
    "    'n_estimators': [60],\n",
    "    'reg_alpha':[1e-2, 0.1, 1],\n",
    "    'gamma':[i/10.0 for i in range(0, 8, 2)]\n",
    "}\n",
    "model = XGBClassifier(max_depth=9, n_estimators=40, reg_alpha=0.1, gamma=0.3)\n",
    "model, preds = optimize_hyperparameters(X_train, X_test, y_train, model, \n",
    "                                 param_grid, n_jobs=-1, cv=5, scoring_fit='roc_auc')\n",
    "\n",
    "probs = model.predict_proba(X_test)\n",
    "print(model.best_score_)\n",
    "print(model.best_params_)\n",
    "\n",
    "end_time = time.time()\n",
    "\n",
    "duration = end_time - start_time\n",
    "print(\"Time taken: {:.3f} seconds\".format(duration))"
   ]
  },
  {
   "cell_type": "code",
   "execution_count": null,
   "id": "988142b4",
   "metadata": {},
   "outputs": [],
   "source": [
    "model = XGBClassifier(max_depth=9, n_estimators=100, reg_alpha=1, gamma=0.0)\n",
    "model.fit(X_train, y_train)\n",
    "y_pred = model.predict(X_test)\n",
    "probs = model.predict_proba(X_test)\n",
    "accuracy = accuracy_score(y_test, y_pred)\n",
    "print(\"Model accuracy: {}\".format(accuracy))"
   ]
  },
  {
   "cell_type": "code",
   "execution_count": null,
   "id": "288e6fb2",
   "metadata": {},
   "outputs": [],
   "source": [
    "interval, lower, upper = prediction_interval(accuracy, 1.96, X_test.shape[0])\n",
    "print(\"interval: {:.4f}, lower: {:.4f}, upper: {:.4f}\".format(interval, lower, upper))"
   ]
  },
  {
   "cell_type": "code",
   "execution_count": null,
   "id": "a3576db0",
   "metadata": {},
   "outputs": [],
   "source": [
    "print(classification_report(y_test, y_pred))"
   ]
  },
  {
   "cell_type": "code",
   "execution_count": null,
   "id": "d2b60e90",
   "metadata": {
    "scrolled": true
   },
   "outputs": [],
   "source": [
    "fpr, tpr, thresholds = roc_curve(y_test, probs[:,1])\n",
    "plot_auc_roc(fpr, tpr)"
   ]
  },
  {
   "cell_type": "code",
   "execution_count": null,
   "id": "be21e137",
   "metadata": {},
   "outputs": [],
   "source": [
    "precision, recall, thresholds = precision_recall_curve(y_test, probs[:, 1])\n",
    "plot_precision_recall_auc(precision, recall)"
   ]
  },
  {
   "cell_type": "code",
   "execution_count": null,
   "id": "9d49ea19",
   "metadata": {},
   "outputs": [],
   "source": [
    "model = XGBClassifier(max_depth=9, n_estimators=100, reg_alpha=1, gamma=0.0)\n",
    "model.fit(Xn, yn)\n",
    "y_pred = model.predict(X_test)\n",
    "probs = model.predict_proba(X_test)\n",
    "accuracy = accuracy_score(y_test, y_pred)\n",
    "print(\"Model accuracy: {}\".format(accuracy))"
   ]
  },
  {
   "cell_type": "code",
   "execution_count": null,
   "id": "b471480e",
   "metadata": {},
   "outputs": [],
   "source": [
    "interval, lower, upper = prediction_interval(accuracy, 1.96, X_test.shape[0])\n",
    "print(\"interval: {:.4f}, lower: {:.4f}, upper: {:.4f}\".format(interval, lower, upper))"
   ]
  },
  {
   "cell_type": "code",
   "execution_count": null,
   "id": "94544450",
   "metadata": {},
   "outputs": [],
   "source": [
    "print(classification_report(y_test, y_pred))"
   ]
  },
  {
   "cell_type": "code",
   "execution_count": null,
   "id": "f897d259",
   "metadata": {},
   "outputs": [],
   "source": [
    "fpr, tpr, thresholds = roc_curve(y_test, probs[:,1])\n",
    "plot_auc_roc(fpr, tpr)"
   ]
  },
  {
   "cell_type": "code",
   "execution_count": null,
   "id": "f1daba5e",
   "metadata": {},
   "outputs": [],
   "source": [
    "precision, recall, thresholds = precision_recall_curve(y_test, probs[:, 1])\n",
    "plot_precision_recall_auc(precision, recall)"
   ]
  },
  {
   "cell_type": "code",
   "execution_count": null,
   "id": "b8006097",
   "metadata": {},
   "outputs": [],
   "source": [
    "model = LGBMClassifier()\n",
    "model.fit(X_train, y_train)\n",
    "y_pred = model.predict(X_test)\n",
    "accuracy = accuracy_score(y_test, y_pred)\n",
    "print(\"Model accuracy: {}\".format(accuracy))"
   ]
  },
  {
   "cell_type": "code",
   "execution_count": null,
   "id": "f8c49351",
   "metadata": {},
   "outputs": [],
   "source": [
    "start_time = time.time()\n",
    "\n",
    "param_grid = {\n",
    "    'learning_rate': [0.01, 0.1, 0.5],\n",
    "    'max_depth': range(5, 9, 1),\n",
    "    'num_leaves':[30, 40],\n",
    "    'n_estimators': [100],\n",
    "    'reg_alpha': [0.1, 1, 5]\n",
    "}\n",
    "\n",
    "model = LGBMClassifier(verbose=0)\n",
    "grid_search = GridSearchCV(estimator=model, param_grid=param_grid, cv=5, scoring='roc_auc', n_jobs=-1)\n",
    "grid_search.fit(X_train, y_train)\n",
    "\n",
    "print(\"Best ROC AUC Score: {:.4f}\".format(grid_search.best_score_))\n",
    "print(\"Best Parameters:\", grid_search.best_params_)\n",
    "\n",
    "probs = grid_search.predict_proba(X_test)\n",
    "\n",
    "end_time = time.time()\n",
    "duration = end_time - start_time\n",
    "print(\"Time taken: {:.3f} seconds\".format(duration))"
   ]
  },
  {
   "cell_type": "code",
   "execution_count": null,
   "id": "973c8942",
   "metadata": {},
   "outputs": [],
   "source": [
    "model = LGBMClassifier(max_depth=8, n_estimators=1000, reg_alpha=1, num_leaves=40, learning_rate=0.1, verbose=0)\n",
    "model.fit(X_train, y_train)\n",
    "y_pred = model.predict(X_test)\n",
    "probs = model.predict_proba(X_test)\n",
    "accuracy = accuracy_score(y_test, y_pred)\n",
    "print(\"Model accuracy: {}\".format(accuracy))"
   ]
  },
  {
   "cell_type": "code",
   "execution_count": null,
   "id": "87530640",
   "metadata": {},
   "outputs": [],
   "source": [
    "interval, lower, upper = prediction_interval(accuracy, 1.96, X_test.shape[0])\n",
    "print(\"interval: {:.4f}, lower: {:.4f}, upper: {:.4f}\".format(interval, lower, upper))"
   ]
  },
  {
   "cell_type": "code",
   "execution_count": null,
   "id": "944fef28",
   "metadata": {},
   "outputs": [],
   "source": [
    "print(classification_report(y_test, y_pred))"
   ]
  },
  {
   "cell_type": "code",
   "execution_count": null,
   "id": "c7b8714a",
   "metadata": {},
   "outputs": [],
   "source": [
    "fpr, tpr, thresholds = roc_curve(y_test, probs[:,1])\n",
    "plot_auc_roc(fpr, tpr)"
   ]
  },
  {
   "cell_type": "code",
   "execution_count": null,
   "id": "aee180a0",
   "metadata": {},
   "outputs": [],
   "source": []
  },
  {
   "cell_type": "code",
   "execution_count": null,
   "id": "77ffcc4e",
   "metadata": {},
   "outputs": [],
   "source": [
    "precision, recall, thresholds = precision_recall_curve(y_test, probs[:, 1])\n",
    "plot_precision_recall_auc(precision, recall)"
   ]
  },
  {
   "cell_type": "code",
   "execution_count": null,
   "id": "be76de4f",
   "metadata": {},
   "outputs": [],
   "source": [
    "model = LGBMClassifier(max_depth=8, n_estimators=1000, reg_alpha=1, num_leaves=40, learning_rate=0.1, verbose=0)\n",
    "model.fit(Xn, yn)\n",
    "y_pred = model.predict(X_test)\n",
    "probs = model.predict_proba(X_test)\n",
    "accuracy = accuracy_score(y_test, y_pred)\n",
    "print(\"Model accuracy: {}\".format(accuracy))"
   ]
  },
  {
   "cell_type": "code",
   "execution_count": null,
   "id": "b01a2fb7",
   "metadata": {},
   "outputs": [],
   "source": [
    "interval, lower, upper = prediction_interval(accuracy, 1.96, X_test.shape[0])\n",
    "print(\"interval: {:.4f}, lower: {:.4f}, upper: {:.4f}\".format(interval, lower, upper))"
   ]
  },
  {
   "cell_type": "code",
   "execution_count": null,
   "id": "ea5ad062",
   "metadata": {},
   "outputs": [],
   "source": [
    "print(classification_report(y_test, y_pred))"
   ]
  },
  {
   "cell_type": "code",
   "execution_count": null,
   "id": "772145c1",
   "metadata": {},
   "outputs": [],
   "source": [
    "fpr, tpr, thresholds = roc_curve(y_test, probs[:,1])\n",
    "plot_auc_roc(fpr, tpr)"
   ]
  },
  {
   "cell_type": "code",
   "execution_count": null,
   "id": "32fc4483",
   "metadata": {},
   "outputs": [],
   "source": [
    "precision, recall, thresholds = precision_recall_curve(y_test, probs[:, 1])\n",
    "plot_precision_recall_auc(precision, recall)"
   ]
  },
  {
   "cell_type": "code",
   "execution_count": null,
   "id": "dbff3b71",
   "metadata": {},
   "outputs": [],
   "source": [
    "model = Sequential()\n",
    "model.add(Dense(10, input_dim=14, activation='relu'))\n",
    "model.add(Dense(7, activation='relu'))\n",
    "model.add(Dense(1, activation='sigmoid'))\n",
    "\n",
    "optimizer = SGD(learning_rate=0.15, momentum=0.9)\n",
    "model.compile(loss='binary_crossentropy', optimizer=optimizer, metrics=['accuracy', 'AUC'])\n",
    "\n",
    "early_stopping = EarlyStopping(monitor='val_auc', patience=5, verbose=1, mode='max')\n",
    "\n",
    "history = model.fit(X_train, y_train, epochs=20, batch_size=32, callbacks=[early_stopping], validation_split=0.2)"
   ]
  },
  {
   "cell_type": "code",
   "execution_count": null,
   "id": "599068a8",
   "metadata": {},
   "outputs": [],
   "source": [
    "model = Sequential()\n",
    "model.add(Dense(10, input_dim=14, activation='tanh'))\n",
    "model.add(Dense(7, activation='tanh'))\n",
    "model.add(Dense(1, activation='sigmoid'))\n",
    "\n",
    "optimizer = SGD(learning_rate=0.15, momentum=0.9)\n",
    "model.compile(loss='binary_crossentropy', optimizer=optimizer, metrics=['accuracy', 'AUC'])\n",
    "\n",
    "early_stopping = EarlyStopping(monitor='val_auc', patience=5, verbose=1, mode='max')\n",
    "\n",
    "history = model.fit(X_train, y_train, epochs=20, batch_size=32, callbacks=[early_stopping], validation_split=0.2)"
   ]
  },
  {
   "cell_type": "code",
   "execution_count": null,
   "id": "e3e11ae4",
   "metadata": {},
   "outputs": [],
   "source": [
    "model = Sequential()\n",
    "model.add(Dense(10, input_dim=14, activation='tanh'))\n",
    "model.add(Dense(7, activation='tanh'))\n",
    "model.add(Dense(1, activation='sigmoid'))\n",
    "\n",
    "optimizer = Adam(learning_rate=0.001, beta_1=0.9)\n",
    "model.compile(loss='binary_crossentropy', optimizer=optimizer, metrics=['accuracy', 'AUC'])\n",
    "\n",
    "early_stopping = EarlyStopping(monitor='val_auc', patience=5, verbose=1, mode='max')\n",
    "\n",
    "history = model.fit(X_train, y_train, epochs=20, batch_size=32, callbacks=[early_stopping], validation_split=0.2)"
   ]
  },
  {
   "cell_type": "code",
   "execution_count": null,
   "id": "fb1b2338",
   "metadata": {},
   "outputs": [],
   "source": [
    "class CosineLearningRateSchedule(keras.callbacks.Callback):\n",
    "    def __init__(self, max_lr, warmup_epochs, total_epochs):\n",
    "        super(CosineLearningRateSchedule, self).__init__()\n",
    "        self.max_lr = max_lr\n",
    "        self.warmup_epochs = warmup_epochs\n",
    "        self.total_epochs = total_epochs\n",
    "        self.initial_lr = max_lr / warmup_epochs\n",
    "\n",
    "    def on_epoch_begin(self, epoch, logs=None):\n",
    "        if epoch < self.warmup_epochs:\n",
    "            lr = self.initial_lr * (epoch + 1)\n",
    "        else:\n",
    "            decayed_lr = 0.5 * self.max_lr * (1 + math.cos(math.pi * (epoch - self.warmup_epochs) / (self.total_epochs - self.warmup_epochs)))\n",
    "            lr = max(decayed_lr, 1e-7)\n",
    "        keras.backend.set_value(self.model.optimizer.lr, lr)\n",
    "\n",
    "model = Sequential()\n",
    "model.add(Dense(10, input_dim=14, activation='tanh'))\n",
    "model.add(Dense(7, activation='tanh'))\n",
    "model.add(Dense(1, activation='sigmoid'))\n",
    "\n",
    "# Compile the model\n",
    "model.compile(loss='binary_crossentropy', optimizer=Adam(learning_rate=0.001), metrics=['accuracy', 'AUC'])\n",
    "\n",
    "# Cosine Learning Rate Schedule with Warm-up\n",
    "cosine_lr_schedule = CosineLearningRateSchedule(max_lr=0.01, warmup_epochs=5, total_epochs=20)\n",
    "\n",
    "# Fit the model\n",
    "history = model.fit(X_train, y_train, epochs=20, batch_size=32, callbacks=[cosine_lr_schedule, early_stopping], validation_split=0.2)\n"
   ]
  },
  {
   "cell_type": "code",
   "execution_count": null,
   "id": "40fde184",
   "metadata": {},
   "outputs": [],
   "source": [
    "probs = model.predict(X_test)\n",
    "preds = np.argmax(probs, axis=-1)\n",
    "accuracy = accuracy_score(y_test, preds)\n",
    "print(\"Model accuracy: {}\".format(accuracy))"
   ]
  },
  {
   "cell_type": "code",
   "execution_count": null,
   "id": "448bbf42",
   "metadata": {},
   "outputs": [],
   "source": [
    "interval, lower, upper = prediction_interval(accuracy, 1.96, X_test.shape[0])\n",
    "print(\"interval: {:.4f}, lower: {:.4f}, upper: {:.4f}\".format(interval, lower, upper))"
   ]
  },
  {
   "cell_type": "code",
   "execution_count": null,
   "id": "dafdc2e8",
   "metadata": {},
   "outputs": [],
   "source": [
    "print(classification_report(y_test, preds))"
   ]
  },
  {
   "cell_type": "code",
   "execution_count": null,
   "id": "a57f1fcf",
   "metadata": {},
   "outputs": [],
   "source": [
    "fpr, tpr, thresholds = roc_curve(y_test, probs)"
   ]
  },
  {
   "cell_type": "code",
   "execution_count": null,
   "id": "96b8d0f6",
   "metadata": {},
   "outputs": [],
   "source": [
    "plot_auc_roc(fpr, tpr)"
   ]
  },
  {
   "cell_type": "code",
   "execution_count": null,
   "id": "7adf4994",
   "metadata": {},
   "outputs": [],
   "source": []
  }
 ],
 "metadata": {
  "kernelspec": {
   "display_name": "Python 3 (ipykernel)",
   "language": "python",
   "name": "python3"
  },
  "language_info": {
   "codemirror_mode": {
    "name": "ipython",
    "version": 3
   },
   "file_extension": ".py",
   "mimetype": "text/x-python",
   "name": "python",
   "nbconvert_exporter": "python",
   "pygments_lexer": "ipython3",
   "version": "3.8.18"
  }
 },
 "nbformat": 4,
 "nbformat_minor": 5
}
